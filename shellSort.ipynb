{
 "cells": [
  {
   "cell_type": "markdown",
   "id": "4a83892b",
   "metadata": {},
   "source": [
    "# Shell Sort\n",
    "\n",
    "Shell Sort mejora la eficiencia de Insertion Sort al comparar elementos separados por un intervalo (gap).\n",
    "A medida que el algoritmo avanza, el gap se reduce hasta que se convierte en 1, momento en el que se comporta como Insertion Sort.\n",
    "\n",
    "## Pasos:\n",
    "1. Elegir un valor inicial para el **gap** (por ejemplo, la mitad del tamaño de la lista).\n",
    "2. Comparar elementos separados por el **gap** y ordenarlos.\n",
    "3. Reducir el **gap** y repetir el proceso.\n",
    "4. Cuando el **gap** es 1, se aplica Insertion Sort para finalizar la ordenación.\n",
    "\n",
    "🔹 **Complejidad:** O(n log n) en el mejor caso, O(n²) en el peor caso.  \n",
    "🔹 **Ventaja:** Más rápido que Insertion Sort en listas grandes."
   ]
  },
  {
   "cell_type": "markdown",
   "id": "69493a19",
   "metadata": {},
   "source": [
    "- creamos la función de ordenamiento"
   ]
  },
  {
   "cell_type": "code",
   "execution_count": 3,
   "id": "22c89559",
   "metadata": {},
   "outputs": [],
   "source": [
    "import random\n",
    "import time"
   ]
  },
  {
   "cell_type": "code",
   "execution_count": 4,
   "id": "383f6f6e",
   "metadata": {},
   "outputs": [],
   "source": [
    "def shell_sort(arr):\n",
    "    n = len(arr)\n",
    "    gap = n // 2  # Inicializamos el gap\n",
    "\n",
    "    while gap > 0:\n",
    "        for i in range(gap, n):\n",
    "            temp = arr[i]\n",
    "            j = i\n",
    "\n",
    "            while j >= gap and arr[j - gap] > temp:\n",
    "                arr[j] = arr[j - gap]\n",
    "                j -= gap\n",
    "\n",
    "            arr[j] = temp\n",
    "\n",
    "        gap //= 2  # Reducimos el gap\n",
    "\n"
   ]
  },
  {
   "cell_type": "markdown",
   "id": "f744b80f",
   "metadata": {},
   "source": [
    "- creamos la lista desordenada"
   ]
  },
  {
   "cell_type": "code",
   "execution_count": 5,
   "id": "6b2fb09d",
   "metadata": {},
   "outputs": [
    {
     "name": "stdout",
     "output_type": "stream",
     "text": [
      "[67, 49, 13, 31, 42, 89, 48, 96, 55, 65]\n"
     ]
    }
   ],
   "source": [
    "list = [random.randint(1,100) for _ in range(0,10)]\n",
    "print(list)"
   ]
  },
  {
   "cell_type": "code",
   "execution_count": 7,
   "id": "dcfddf0c",
   "metadata": {},
   "outputs": [
    {
     "name": "stdout",
     "output_type": "stream",
     "text": [
      "Heap Sort: 0.00005 segundos\n"
     ]
    }
   ],
   "source": [
    "start_time = time.time()\n",
    "shell_sort(list)\n",
    "heap_time = time.time() - start_time\n",
    "print(f\"Heap Sort: {heap_time:.5f} segundos\")"
   ]
  },
  {
   "cell_type": "code",
   "execution_count": 8,
   "id": "02082a0a",
   "metadata": {},
   "outputs": [
    {
     "name": "stdout",
     "output_type": "stream",
     "text": [
      "[13, 31, 42, 48, 49, 55, 65, 67, 89, 96]\n"
     ]
    }
   ],
   "source": [
    "print(list)"
   ]
  }
 ],
 "metadata": {
  "kernelspec": {
   "display_name": ".venv",
   "language": "python",
   "name": "python3"
  },
  "language_info": {
   "codemirror_mode": {
    "name": "ipython",
    "version": 3
   },
   "file_extension": ".py",
   "mimetype": "text/x-python",
   "name": "python",
   "nbconvert_exporter": "python",
   "pygments_lexer": "ipython3",
   "version": "3.13.3"
  }
 },
 "nbformat": 4,
 "nbformat_minor": 5
}
