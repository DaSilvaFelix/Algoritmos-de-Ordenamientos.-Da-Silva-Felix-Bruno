{
 "cells": [
  {
   "cell_type": "markdown",
   "id": "4571383a",
   "metadata": {},
   "source": [
    "#### Algoritmo de ordenamiento **Heap Sort**\n"
   ]
  },
  {
   "cell_type": "markdown",
   "id": "62711384",
   "metadata": {},
   "source": [
    "- Heap Sort es un algoritmo basado en estructuras de datos llamadas montículos (heaps). \n",
    "- Primero, convierte la lista en un montículo máximo, donde el elemento más grande está en la raíz.\n",
    "- Luego, se intercambia la raíz con el último elemento, se reduce el tamaño del heap y se reordena. Este proceso se repite hasta que la lista esté ordenada.\n",
    "\n",
    "#### Rendimiento:\n",
    "- Lista ordenada (ascendente): Heap Sort aún requiere construir el montículo, lo que toma O(n), y luego ordenar en O(n log n), por lo que no es más eficiente que otros algoritmos como Quick Sort en este caso.\n",
    "- Lista desordenada (aleatoria): Aquí es donde Heap Sort mantiene su rendimiento constante, con O(n log n) en todos los casos, sin importar el nivel de desorden.\n",
    "- Lista ordenada en orden inverso (descendente): Heap Sort no tiene ventaja ni desventaja aquí, ya que igualmente debe reorganizar los elementos desde cero. Sigue siendo O(n log n).\n"
   ]
  },
  {
   "cell_type": "markdown",
   "id": "2790e7e5",
   "metadata": {},
   "source": [
    "creamos una función que reciba el arreglo o lista para ordenar "
   ]
  },
  {
   "cell_type": "code",
   "execution_count": null,
   "id": "26d97b8e",
   "metadata": {},
   "outputs": [],
   "source": [
    "import time \n",
    "import random"
   ]
  },
  {
   "cell_type": "code",
   "execution_count": null,
   "id": "157c31b3",
   "metadata": {},
   "outputs": [],
   "source": [
    "def heapify( arr , n , i ):\n",
    "     largest = i\n",
    "     left = 2 * i + 1\n",
    "     right =2 * i + 2\n",
    "     \n",
    "     if(left < n and arr[left] > arr[largest]):\n",
    "          largest = left\n",
    "     \n",
    "     if(right < n and arr[right] > arr[largest]):\n",
    "          largest = right\n",
    "     if(largest != i ):\n",
    "          arr[i],arr[largest] = arr[largest],arr[i]\n",
    "          heapify(arr,n,largest)"
   ]
  },
  {
   "cell_type": "code",
   "execution_count": null,
   "id": "9311d2cc",
   "metadata": {},
   "outputs": [],
   "source": [
    "def heapSort(arr):\n",
    "     n = len(arr)\n",
    "\n",
    "     for i in range(n // 2 -1,-1,-1):\n",
    "          heapify(arr,n,i)\n",
    "\n",
    "     for i in range(n - 1, 0,-1):\n",
    "          arr[i],arr[0] = arr[0],arr[i]\n",
    "          heapify(arr,i,0)"
   ]
  },
  {
   "cell_type": "markdown",
   "id": "d5991e54",
   "metadata": {},
   "source": [
    "- creamos un array o una lista que le pasaremos con numero aleatorios"
   ]
  },
  {
   "cell_type": "code",
   "execution_count": null,
   "id": "0081c129",
   "metadata": {},
   "outputs": [],
   "source": [
    "list = [random.randint(1,100) for _ in range(0,10)]\n",
    "print(list)"
   ]
  },
  {
   "cell_type": "code",
   "execution_count": null,
   "id": "e5cc0fed",
   "metadata": {},
   "outputs": [],
   "source": [
    "start_time = time.time()\n",
    "heapSort(list)\n",
    "heap_time = time.time() - start_time\n",
    "print(f\"Heap Sort: {heap_time:.5f} segundos\")"
   ]
  },
  {
   "cell_type": "markdown",
   "id": "292ba3e6",
   "metadata": {},
   "source": [
    "- mostramos la lista ordenada"
   ]
  },
  {
   "cell_type": "code",
   "execution_count": null,
   "id": "f76e009f",
   "metadata": {},
   "outputs": [],
   "source": [
    "print(list)"
   ]
  }
 ],
 "metadata": {
  "kernelspec": {
   "display_name": ".venv",
   "language": "python",
   "name": "python3"
  },
  "language_info": {
   "codemirror_mode": {
    "name": "ipython",
    "version": 3
   },
   "file_extension": ".py",
   "mimetype": "text/x-python",
   "name": "python",
   "nbconvert_exporter": "python",
   "pygments_lexer": "ipython3",
   "version": "3.13.3"
  }
 },
 "nbformat": 4,
 "nbformat_minor": 5
}
