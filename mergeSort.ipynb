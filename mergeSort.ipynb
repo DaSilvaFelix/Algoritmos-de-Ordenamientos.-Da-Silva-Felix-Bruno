{
 "cells": [
  {
   "cell_type": "markdown",
   "id": "2b68ddc1",
   "metadata": {},
   "source": [
    "# Merge Sort\n",
    "\n",
    "Merge Sort funciona dividiendo una lista en mitades hasta que cada una contiene un solo elemento.\n",
    "Luego, compara y une las sublistas en orden hasta formar la lista final ordenada.\n",
    "\n",
    "## Pasos:\n",
    "1. Divide la lista en dos mitades.\n",
    "2. Sigue dividiendo hasta que cada parte tenga **un solo elemento**.\n",
    "3. Comienza a mezclar comparando los elementos y colocándolos en orden.\n",
    "4. Continúa hasta reconstruir la lista ordenada.\n",
    "\n",
    "🔹 **Complejidad:** O(n log n)  \n",
    "🔹 **Ventaja:** Funciona bien en listas grandes y es estable."
   ]
  },
  {
   "cell_type": "code",
   "execution_count": 12,
   "id": "a2af4edd",
   "metadata": {},
   "outputs": [],
   "source": [
    "import time\n",
    "import random"
   ]
  },
  {
   "cell_type": "markdown",
   "id": "c34fa717",
   "metadata": {},
   "source": [
    "- se crea la función que ordena la lista o array"
   ]
  },
  {
   "cell_type": "code",
   "execution_count": 13,
   "id": "61a53c2e",
   "metadata": {},
   "outputs": [],
   "source": [
    "def merge_sort(arr):\n",
    "    if len(arr) > 1:\n",
    "        \n",
    "        mid = len(arr) // 2  # Dividir la lista en dos mitades\n",
    "        \n",
    "        left_half = arr[:mid]\n",
    "        right_half = arr[mid:]\n",
    "\n",
    "        merge_sort(left_half)  # Ordenar la mitad izquierda\n",
    "        merge_sort(right_half)  # Ordenar la mitad derecha\n",
    "\n",
    "        i = j = k = 0\n",
    "\n",
    "        # Mezclar las dos mitades ordenadas\n",
    "        while i < len(left_half) and j < len(right_half):\n",
    "            if (left_half[i] < right_half[j]):\n",
    "                arr[k] = left_half[i]\n",
    "                i += 1\n",
    "            else:\n",
    "                arr[k] = right_half[j]\n",
    "                j += 1\n",
    "            k += 1\n",
    "\n",
    "        # Agregar cualquier elemento restante\n",
    "        while i < len(left_half):\n",
    "            arr[k] = left_half[i]\n",
    "            i += 1\n",
    "            k += 1\n",
    "\n",
    "        while j < len(right_half):\n",
    "            arr[k] = right_half[j]\n",
    "            j += 1\n",
    "            k += 1"
   ]
  },
  {
   "cell_type": "markdown",
   "id": "e9a7f88c",
   "metadata": {},
   "source": [
    "- creamos un array o una lista que le pasaremos con numero aleatorios"
   ]
  },
  {
   "cell_type": "code",
   "execution_count": 14,
   "id": "4808c519",
   "metadata": {},
   "outputs": [
    {
     "name": "stdout",
     "output_type": "stream",
     "text": [
      "[6, 36, 57, 31, 45, 61, 54, 11, 27, 56]\n"
     ]
    }
   ],
   "source": [
    "list = [random.randint(1,100) for _ in range(0,10)]\n",
    "print(list)"
   ]
  },
  {
   "cell_type": "code",
   "execution_count": 15,
   "id": "ee0c9eba",
   "metadata": {},
   "outputs": [
    {
     "name": "stdout",
     "output_type": "stream",
     "text": [
      "Heap Sort: 0.00006 segundos\n"
     ]
    }
   ],
   "source": [
    "start_time = time.time()\n",
    "merge_sort(list)\n",
    "heap_time = time.time() - start_time\n",
    "print(f\"Heap Sort: {heap_time:.5f} segundos\")"
   ]
  },
  {
   "cell_type": "markdown",
   "id": "c1e93a94",
   "metadata": {},
   "source": [
    "- mostramos la lista ordenada"
   ]
  },
  {
   "cell_type": "code",
   "execution_count": 16,
   "id": "36a56e8a",
   "metadata": {},
   "outputs": [
    {
     "name": "stdout",
     "output_type": "stream",
     "text": [
      "[6, 11, 27, 31, 36, 45, 54, 56, 57, 61]\n"
     ]
    }
   ],
   "source": [
    "print(list)"
   ]
  }
 ],
 "metadata": {
  "kernelspec": {
   "display_name": ".venv",
   "language": "python",
   "name": "python3"
  },
  "language_info": {
   "codemirror_mode": {
    "name": "ipython",
    "version": 3
   },
   "file_extension": ".py",
   "mimetype": "text/x-python",
   "name": "python",
   "nbconvert_exporter": "python",
   "pygments_lexer": "ipython3",
   "version": "3.13.3"
  }
 },
 "nbformat": 4,
 "nbformat_minor": 5
}
